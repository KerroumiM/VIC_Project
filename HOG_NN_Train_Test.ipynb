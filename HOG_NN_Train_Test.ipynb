{
 "cells": [
  {
   "cell_type": "markdown",
   "metadata": {},
   "source": [
    "## Find nearest neighbours and find cosine similarity"
   ]
  },
  {
   "cell_type": "code",
   "execution_count": 1,
   "metadata": {},
   "outputs": [],
   "source": [
    "from sklearn.neighbors import NearestNeighbors\n",
    "import cv2\n",
    "from matplotlib import pyplot as plt\n",
    "import numpy as np\n",
    "from numpy.linalg import norm\n",
    "from skimage.transform import resize\n",
    "import glob, os, random\n",
    "\n",
    "def HOG_CV(image):\n",
    "    \n",
    "    winSize = (28,28)\n",
    "    blockSize = (4,4)\n",
    "    blockStride = (2,2)\n",
    "    cellSize = (2,2)\n",
    "    nbins = 9\n",
    "    derivAperture = 1\n",
    "    winSigma = 4.\n",
    "    histogramNormType = 0\n",
    "    L2HysThreshold = 2.0000000000000001e-01\n",
    "    gammaCorrection = 0\n",
    "    nlevels = 64\n",
    "    hog = cv2.HOGDescriptor(winSize,blockSize,blockStride,cellSize,nbins,derivAperture,winSigma,\n",
    "                            histogramNormType,L2HysThreshold,gammaCorrection,nlevels)\n",
    "    #compute(img[, winStride[, padding[, locations]]]) -> descriptors\n",
    "    winStride = (8,8)\n",
    "    padding = (8,8)\n",
    "    locations = ((10,20),)\n",
    "    hist = hog.compute(image,winStride,padding,locations)\n",
    "    return hist\n",
    "\n",
    "\n",
    "def find_hog(image):\n",
    "    #image = cv2.cvtColor(image, cv2.COLOR_BGR2GRAY)\n",
    "    image= image.astype(np.uint8)\n",
    "    hist_cv = HOG_CV(image)\n",
    "    return hist_cv"
   ]
  },
  {
   "cell_type": "markdown",
   "metadata": {},
   "source": [
    "## Create training and testing data"
   ]
  },
  {
   "cell_type": "code",
   "execution_count": 2,
   "metadata": {},
   "outputs": [],
   "source": [
    "data = glob.glob(str(os.getcwd())+\"\\images\\images\\*\")\n",
    "random.shuffle(data)\n",
    "test_data = data[:500]\n",
    "train_data = data[501:]"
   ]
  },
  {
   "cell_type": "markdown",
   "metadata": {},
   "source": [
    "## Find discriptors and run KNN"
   ]
  },
  {
   "cell_type": "code",
   "execution_count": 3,
   "metadata": {},
   "outputs": [
    {
     "data": {
      "application/vnd.jupyter.widget-view+json": {
       "model_id": "cdaccb0d83be42d88cbe1588504a0737",
       "version_major": 2,
       "version_minor": 0
      },
      "text/plain": [
       "HBox(children=(FloatProgress(value=0.0, max=43940.0), HTML(value='')))"
      ]
     },
     "metadata": {},
     "output_type": "display_data"
    }
   ],
   "source": [
    "from tqdm.notebook import tqdm\n",
    "#print (os.getcwd())\n",
    "#os.chdir(\"images\")\n",
    "limit = len(train_data)\n",
    "dic_hog = {}\n",
    "bins_list = []\n",
    "for file in tqdm(train_data):\n",
    "    a= find_hog(cv2.imread(file))\n",
    "    dic_hog[file] = [x[0] for x in a]\n",
    "    bins_list.append(dic_hog[file])\n",
    "    if len(bins_list) == limit:\n",
    "        break\n",
    "        \n",
    "N_Wanted = 10 #Number of neighbours wanted\n",
    "bins_list = np.array(bins_list)\n",
    "bins_list = np.reshape(bins_list,(limit,len(bins_list[0])))\n",
    "nbrs = NearestNeighbors(n_neighbors=N_Wanted, algorithm='ball_tree').fit(bins_list)"
   ]
  },
  {
   "cell_type": "code",
   "execution_count": 51,
   "metadata": {},
   "outputs": [
    {
     "data": {
      "application/vnd.jupyter.widget-view+json": {
       "model_id": "2cc24227bd1040568db5e76a6bb3e5b4",
       "version_major": 2,
       "version_minor": 0
      },
      "text/plain": [
       "HBox(children=(FloatProgress(value=0.0, max=500.0), HTML(value='')))"
      ]
     },
     "metadata": {},
     "output_type": "display_data"
    },
    {
     "name": "stdout",
     "output_type": "stream",
     "text": [
      "Different Dimensions, return empty array\n",
      "Different Dimensions, return empty array\n",
      "Different Dimensions, return empty array\n",
      "\n",
      "Global Mean Cosine Similarity Descriptor is : 0.6779431\n",
      "Global Mean Cosine Similarity Image for is : 0.9734942164468434\n"
     ]
    }
   ],
   "source": [
    "from skimage.measure import compare_nrmse\n",
    "from sklearn.metrics.pairwise import cosine_similarity\n",
    "\n",
    "def find_img_cosine(path_img_1, path_img_2):\n",
    "    img1 = cv2.imread(path_img_1)\n",
    "    img1 = cv2.cvtColor(img1, cv2.COLOR_BGR2GRAY)\n",
    "    img1 = np.reshape(img1,(len(img1)*len(img1[0]),1))\n",
    "    img1 = [x[0] for x in img1]\n",
    "    \n",
    "    img2 = cv2.imread(path_img_2)\n",
    "    img2 =  cv2.cvtColor(img2, cv2.COLOR_BGR2GRAY)\n",
    "    img2 = np.reshape(img2,(len(img2)*len(img2[0]),1))\n",
    "    img2 = [x[0] for x in img2]\n",
    "    \n",
    "    try:\n",
    "        return [cosine_similarity([img1],[img2])[0][0]]\n",
    "    except:\n",
    "        print (\"Different Dimensions, return empty array\")\n",
    "        return []\n",
    "    \n",
    "test_descriptor_mean_cosine = []\n",
    "test_image_cosine = []\n",
    "for test in tqdm(test_data):\n",
    "    hogs = find_hog(cv2.imread(test))\n",
    "    hogs = [x[0] for x in hogs]\n",
    "    distances, indexes = nbrs.kneighbors([hogs])\n",
    "    test_img = cv2.imread(test)\n",
    "    local_cos_sim = []\n",
    "    local_image_cosine = []\n",
    "    for i in range(N_Wanted):\n",
    "        nearest = list(dic_hog.keys())[list(indexes)[0][i]]\n",
    "        local_cos_sim.append(cosine_similarity([hogs],[dic_hog[nearest]])[0][0])\n",
    "        local_image_cosine+=find_img_cosine(test,nearest)\n",
    "    test_descriptor_mean_cosine.append(np.mean(local_cos_sim)) \n",
    "    test_image_cosine.append(np.mean(local_image_cosine))\n",
    "    #print ('\\n\\n\\n')\n",
    "    \n",
    "print (\"Global Mean Cosine Similarity Descriptor is :\", np.mean(test_descriptor_mean_cosine))\n",
    "print (\"Global Mean Cosine Similarity Image for is :\", np.mean(test_image_cosine))"
   ]
  }
 ],
 "metadata": {
  "kernelspec": {
   "display_name": "Python 3",
   "language": "python",
   "name": "python3"
  },
  "language_info": {
   "codemirror_mode": {
    "name": "ipython",
    "version": 3
   },
   "file_extension": ".py",
   "mimetype": "text/x-python",
   "name": "python",
   "nbconvert_exporter": "python",
   "pygments_lexer": "ipython3",
   "version": "3.6.5"
  }
 },
 "nbformat": 4,
 "nbformat_minor": 2
}
